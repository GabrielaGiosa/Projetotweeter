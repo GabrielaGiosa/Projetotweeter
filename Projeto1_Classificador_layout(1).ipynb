{
 "cells": [
  {
   "cell_type": "markdown",
   "metadata": {},
   "source": [
    "# Projeto 1 - Ciência dos Dados"
   ]
  },
  {
   "cell_type": "markdown",
   "metadata": {},
   "source": [
    "Nome: Maria Eduarda Torres\n",
    "\n",
    "Nome: Gabriela Choichit Giosa"
   ]
  },
  {
   "cell_type": "markdown",
   "metadata": {},
   "source": [
    "Atenção: Serão permitidos grupos de três pessoas, mas com uma rubrica mais exigente. Grupos deste tamanho precisarão fazer um questionário de avaliação de trabalho em equipe"
   ]
  },
  {
   "cell_type": "markdown",
   "metadata": {},
   "source": [
    "___\n",
    "Carregando algumas bibliotecas:"
   ]
  },
  {
   "cell_type": "code",
   "execution_count": 63,
   "metadata": {},
   "outputs": [],
   "source": [
    "%matplotlib inline\n",
    "import pandas as pd\n",
    "import matplotlib.pyplot as plt\n",
    "import numpy as np\n",
    "import os"
   ]
  },
  {
   "cell_type": "code",
   "execution_count": 64,
   "metadata": {
    "scrolled": false
   },
   "outputs": [
    {
     "name": "stdout",
     "output_type": "stream",
     "text": [
      "Esperamos trabalhar no diretório\n",
      "/Users/duddatorres/Documents/Cdados/Projetotweeter\n"
     ]
    }
   ],
   "source": [
    "print('Esperamos trabalhar no diretório')\n",
    "print(os.getcwd())"
   ]
  },
  {
   "cell_type": "markdown",
   "metadata": {},
   "source": [
    "Carregando a base de dados com os tweets classificados como relevantes e não relevantes:"
   ]
  },
  {
   "cell_type": "code",
   "execution_count": 65,
   "metadata": {},
   "outputs": [
    {
     "data": {
      "text/html": [
       "<div>\n",
       "<style scoped>\n",
       "    .dataframe tbody tr th:only-of-type {\n",
       "        vertical-align: middle;\n",
       "    }\n",
       "\n",
       "    .dataframe tbody tr th {\n",
       "        vertical-align: top;\n",
       "    }\n",
       "\n",
       "    .dataframe thead th {\n",
       "        text-align: right;\n",
       "    }\n",
       "</style>\n",
       "<table border=\"1\" class=\"dataframe\">\n",
       "  <thead>\n",
       "    <tr style=\"text-align: right;\">\n",
       "      <th></th>\n",
       "      <th>Treinamento</th>\n",
       "      <th>categorias</th>\n",
       "    </tr>\n",
       "  </thead>\n",
       "  <tbody>\n",
       "    <tr>\n",
       "      <td>0</td>\n",
       "      <td>rt @maionese53: papai acaba de ajeitar meu cel...</td>\n",
       "      <td>4</td>\n",
       "    </tr>\n",
       "    <tr>\n",
       "      <td>1</td>\n",
       "      <td>@kt_lilstar @tiktokproibido no fim qm vai ter ...</td>\n",
       "      <td>3</td>\n",
       "    </tr>\n",
       "    <tr>\n",
       "      <td>2</td>\n",
       "      <td>estou aceitando um iphone 11 pro max ou um s20...</td>\n",
       "      <td>3</td>\n",
       "    </tr>\n",
       "    <tr>\n",
       "      <td>3</td>\n",
       "      <td>ai n to fazendo nada acho q vou comprar um iph...</td>\n",
       "      <td>3</td>\n",
       "    </tr>\n",
       "    <tr>\n",
       "      <td>4</td>\n",
       "      <td>@_gabialmeida07 ganhando iphone 11 eu lambia a...</td>\n",
       "      <td>4</td>\n",
       "    </tr>\n",
       "  </tbody>\n",
       "</table>\n",
       "</div>"
      ],
      "text/plain": [
       "                                         Treinamento  categorias\n",
       "0  rt @maionese53: papai acaba de ajeitar meu cel...           4\n",
       "1  @kt_lilstar @tiktokproibido no fim qm vai ter ...           3\n",
       "2  estou aceitando um iphone 11 pro max ou um s20...           3\n",
       "3  ai n to fazendo nada acho q vou comprar um iph...           3\n",
       "4  @_gabialmeida07 ganhando iphone 11 eu lambia a...           4"
      ]
     },
     "execution_count": 65,
     "metadata": {},
     "output_type": "execute_result"
    }
   ],
   "source": [
    "dados = pd.read_excel('Iphone_11.xlsx')\n",
    "dados.head()"
   ]
  },
  {
   "cell_type": "markdown",
   "metadata": {},
   "source": [
    "___\n",
    "## Classificador automático de sentimento\n"
   ]
  },
  {
   "cell_type": "markdown",
   "metadata": {},
   "source": [
    "Faça aqui uma descrição do seu produto e o que considerou como relevante ou não relevante na classificação dos tweets.\n",
    "\n",
    "ESCREVA AQUI..."
   ]
  },
  {
   "cell_type": "markdown",
   "metadata": {},
   "source": [
    "___\n",
    "### Montando um Classificador Naive-Bayes\n",
    "\n",
    "Considerando apenas as mensagens da planilha Treinamento, ensine  seu classificador."
   ]
  },
  {
   "cell_type": "markdown",
   "metadata": {},
   "source": [
    "#### Separando os dados"
   ]
  },
  {
   "cell_type": "code",
   "execution_count": 66,
   "metadata": {},
   "outputs": [],
   "source": [
    "GM = dados['categorias'] == 5\n",
    "G = dados['categorias'] == 4\n",
    "N = dados['categorias'] == 3\n",
    "NG = dados['categorias'] == 2\n",
    "D = dados['categorias'] == 1"
   ]
  },
  {
   "cell_type": "code",
   "execution_count": 67,
   "metadata": {},
   "outputs": [],
   "source": [
    "Gosta_muito = dados.loc[GM,:]\n",
    "Gosta = dados.loc[G,:]\n",
    "Neutro = dados.loc[N,:]\n",
    "Nao_gosta = dados.loc[NG,:]\n",
    "Detesta = dados.loc[D,:]"
   ]
  },
  {
   "cell_type": "code",
   "execution_count": 68,
   "metadata": {},
   "outputs": [
    {
     "data": {
      "text/plain": [
       "3    156\n",
       "5     94\n",
       "4     24\n",
       "2     16\n",
       "1     10\n",
       "Name: categorias, dtype: int64"
      ]
     },
     "execution_count": 68,
     "metadata": {},
     "output_type": "execute_result"
    }
   ],
   "source": [
    "universo = dados['categorias']\n",
    "universo.value_counts()"
   ]
  },
  {
   "cell_type": "markdown",
   "metadata": {},
   "source": [
    "##### Subcategorias:\n"
   ]
  },
  {
   "cell_type": "code",
   "execution_count": 69,
   "metadata": {},
   "outputs": [],
   "source": [
    "#Tweets positivos\n",
    "Ok = (dados['categorias'] == 5) | (dados['categorias'] == 4)\n",
    "positivo = dados.loc[Ok,:]"
   ]
  },
  {
   "cell_type": "code",
   "execution_count": 70,
   "metadata": {},
   "outputs": [],
   "source": [
    "#Tweets negativos\n",
    "N_ok = (dados['categorias'] == 1) | (dados['categorias'] == 2)\n",
    "negativo = dados.loc[N_ok,:]"
   ]
  },
  {
   "cell_type": "code",
   "execution_count": 71,
   "metadata": {},
   "outputs": [],
   "source": [
    "#Tweets neutros\n",
    "n = (dados['categorias'] == 3)\n",
    "neutro = dados.loc[n,:]"
   ]
  },
  {
   "cell_type": "markdown",
   "metadata": {},
   "source": [
    "##### Total de ocorrências"
   ]
  },
  {
   "cell_type": "code",
   "execution_count": 72,
   "metadata": {},
   "outputs": [
    {
     "data": {
      "text/plain": [
       "(118, 300, 26, 156)"
      ]
     },
     "execution_count": 72,
     "metadata": {},
     "output_type": "execute_result"
    }
   ],
   "source": [
    "total = len(dados.index)\n",
    "total_neg = len(negativo.index)\n",
    "total_pos = len(positivo.index)\n",
    "total_neutro = len(neutro.index)\n",
    "total_pos, total, total_neg, total_neutro"
   ]
  },
  {
   "cell_type": "markdown",
   "metadata": {},
   "source": [
    "##### Probabilidade de ser positivo"
   ]
  },
  {
   "cell_type": "code",
   "execution_count": 73,
   "metadata": {},
   "outputs": [
    {
     "data": {
      "text/plain": [
       "0.3933333333333333"
      ]
     },
     "execution_count": 73,
     "metadata": {},
     "output_type": "execute_result"
    }
   ],
   "source": [
    "prob_pos = total_pos / total\n",
    "prob_pos"
   ]
  },
  {
   "cell_type": "markdown",
   "metadata": {},
   "source": [
    "##### Probabilidade de ser negativo"
   ]
  },
  {
   "cell_type": "code",
   "execution_count": 74,
   "metadata": {},
   "outputs": [
    {
     "data": {
      "text/plain": [
       "0.08666666666666667"
      ]
     },
     "execution_count": 74,
     "metadata": {},
     "output_type": "execute_result"
    }
   ],
   "source": [
    "prob_neg = total_neg / total\n",
    "prob_neg"
   ]
  },
  {
   "cell_type": "markdown",
   "metadata": {},
   "source": [
    "##### Probabilidade de ser neutro"
   ]
  },
  {
   "cell_type": "code",
   "execution_count": 75,
   "metadata": {},
   "outputs": [
    {
     "data": {
      "text/plain": [
       "0.52"
      ]
     },
     "execution_count": 75,
     "metadata": {},
     "output_type": "execute_result"
    }
   ],
   "source": [
    "prob_neutro = total_neutro / total\n",
    "prob_neutro"
   ]
  },
  {
   "cell_type": "markdown",
   "metadata": {},
   "source": [
    "##### Transformando em texto "
   ]
  },
  {
   "cell_type": "code",
   "execution_count": 76,
   "metadata": {},
   "outputs": [],
   "source": [
    "texto=\"\""
   ]
  },
  {
   "cell_type": "code",
   "execution_count": 77,
   "metadata": {},
   "outputs": [],
   "source": [
    "for e in dados.Treinamento:\n",
    "    texto+= \" \" + e \n"
   ]
  },
  {
   "cell_type": "markdown",
   "metadata": {},
   "source": [
    "##### Filtrando texto positivo"
   ]
  },
  {
   "cell_type": "code",
   "execution_count": 78,
   "metadata": {},
   "outputs": [],
   "source": [
    "texto_positivo =\"\""
   ]
  },
  {
   "cell_type": "code",
   "execution_count": 79,
   "metadata": {},
   "outputs": [],
   "source": [
    "for e in positivo.Treinamento:\n",
    "    texto_positivo+= \" \" + e \n"
   ]
  },
  {
   "cell_type": "markdown",
   "metadata": {},
   "source": [
    "##### Filtrando texto negativo "
   ]
  },
  {
   "cell_type": "code",
   "execution_count": 80,
   "metadata": {},
   "outputs": [],
   "source": [
    "texto_negativo =\"\""
   ]
  },
  {
   "cell_type": "code",
   "execution_count": 81,
   "metadata": {},
   "outputs": [],
   "source": [
    "for e in negativo.Treinamento:\n",
    "    texto_negativo+= \" \" + e \n",
    "    "
   ]
  },
  {
   "cell_type": "markdown",
   "metadata": {},
   "source": [
    "##### Filtrando texto neutro"
   ]
  },
  {
   "cell_type": "code",
   "execution_count": 82,
   "metadata": {},
   "outputs": [],
   "source": [
    "texto_neutro =\"\""
   ]
  },
  {
   "cell_type": "code",
   "execution_count": 83,
   "metadata": {},
   "outputs": [],
   "source": [
    "for e in neutro.Treinamento:\n",
    "    texto_neutro+= \" \" + e "
   ]
  },
  {
   "cell_type": "markdown",
   "metadata": {},
   "source": [
    "##### Limpando textos\n"
   ]
  },
  {
   "cell_type": "code",
   "execution_count": 84,
   "metadata": {},
   "outputs": [],
   "source": [
    "import re \n",
    "\n",
    "\n",
    "def cleanup(text):\n",
    "    \"\"\"\n",
    "        Função de limpeza muito simples que troca alguns sinais básicos por espaços\n",
    "    \"\"\"\n",
    "    import string\n",
    "    punctuation = '[!-.:?;]' # Note que os sinais [] são delimitadores de um conjunto.\n",
    "    pattern = re.compile(punctuation)\n",
    "    text_subbed = re.sub(pattern, ' ', text)\n",
    "    return text_subbed\n",
    "    "
   ]
  },
  {
   "cell_type": "markdown",
   "metadata": {},
   "source": [
    "##### Split and cleanup"
   ]
  },
  {
   "cell_type": "code",
   "execution_count": 85,
   "metadata": {},
   "outputs": [],
   "source": [
    "texto = cleanup(texto.lower())\n",
    "texto_split = pd.Series(texto.split())\n",
    "\n",
    "texto_positivo = cleanup(texto_positivo.lower())\n",
    "texto_positivo_split = pd.Series(texto_positivo.split())\n",
    "\n",
    "texto_negativo = cleanup(texto_negativo.lower())\n",
    "texto_negativo_split = pd.Series(texto_negativo.split())\n",
    "\n",
    "texto_neutro= cleanup(texto_neutro.lower())\n",
    "texto_neutro_split = pd.Series(texto_neutro.split())"
   ]
  },
  {
   "cell_type": "markdown",
   "metadata": {},
   "source": [
    "##### Frequencia absoluta"
   ]
  },
  {
   "cell_type": "code",
   "execution_count": 86,
   "metadata": {},
   "outputs": [],
   "source": [
    "tabela_texto = texto_split.value_counts()\n",
    "\n",
    "tabela_texto_positivo = texto_positivo_split.value_counts()\n",
    "\n",
    "tabela_texto_negativo = texto_negativo_split .value_counts()\n",
    "\n",
    "tabela_texto_neutro = texto_neutro_split.value_counts()"
   ]
  },
  {
   "cell_type": "markdown",
   "metadata": {},
   "source": [
    "##### Frequencias relativas"
   ]
  },
  {
   "cell_type": "code",
   "execution_count": 87,
   "metadata": {},
   "outputs": [],
   "source": [
    "tabela_texto_relativa = texto_split.value_counts(True)"
   ]
  },
  {
   "cell_type": "code",
   "execution_count": 88,
   "metadata": {},
   "outputs": [
    {
     "data": {
      "text/plain": [
       "iphone          0.073987\n",
       "11              0.070464\n",
       "um              0.042866\n",
       "pro             0.022314\n",
       "o               0.022314\n",
       "                  ...   \n",
       "porém           0.000587\n",
       "amigos          0.000587\n",
       "falei           0.000587\n",
       "@delcacomani    0.000587\n",
       "suggar          0.000587\n",
       "Length: 575, dtype: float64"
      ]
     },
     "execution_count": 88,
     "metadata": {},
     "output_type": "execute_result"
    }
   ],
   "source": [
    "tabela_positivo_relativa = texto_positivo_split.value_counts(True)\n",
    "tabela_positivo_relativa"
   ]
  },
  {
   "cell_type": "code",
   "execution_count": 89,
   "metadata": {},
   "outputs": [],
   "source": [
    "tabela_negativo_relativa = texto_negativo_split.value_counts(True)"
   ]
  },
  {
   "cell_type": "code",
   "execution_count": 90,
   "metadata": {},
   "outputs": [],
   "source": [
    "tabela_neutro_relativa = texto_neutro_split.value_counts(True)"
   ]
  },
  {
   "cell_type": "markdown",
   "metadata": {},
   "source": [
    "##### Probalidade"
   ]
  },
  {
   "cell_type": "code",
   "execution_count": 91,
   "metadata": {},
   "outputs": [
    {
     "data": {
      "text/plain": [
       "0.0005871990604815032"
      ]
     },
     "execution_count": 91,
     "metadata": {},
     "output_type": "execute_result"
    }
   ],
   "source": [
    "tabela_positivo_relativa['bom']"
   ]
  },
  {
   "cell_type": "markdown",
   "metadata": {},
   "source": [
    "##### Interseção entre os conjuntos"
   ]
  },
  {
   "cell_type": "code",
   "execution_count": 92,
   "metadata": {},
   "outputs": [
    {
     "data": {
      "text/plain": [
       "{'//t',\n",
       " '1',\n",
       " '11',\n",
       " 'a',\n",
       " 'agora',\n",
       " 'ai',\n",
       " 'ano',\n",
       " 'apple',\n",
       " 'as',\n",
       " 'até',\n",
       " 'aí',\n",
       " 'bateria',\n",
       " 'celular',\n",
       " 'com',\n",
       " 'comprar',\n",
       " 'comprou',\n",
       " 'câmera',\n",
       " 'da',\n",
       " 'de',\n",
       " 'deus',\n",
       " 'dinheiro',\n",
       " 'dm',\n",
       " 'do',\n",
       " 'e',\n",
       " 'em',\n",
       " 'esse',\n",
       " 'eu',\n",
       " 'fica',\n",
       " 'foto',\n",
       " 'fotos',\n",
       " 'galaxy',\n",
       " 'https',\n",
       " 'iphone',\n",
       " 'já',\n",
       " 'kkkkkkk',\n",
       " 'mais',\n",
       " 'mas',\n",
       " 'max',\n",
       " 'me',\n",
       " 'mercado',\n",
       " 'mesmo',\n",
       " 'meu',\n",
       " 'meus',\n",
       " 'mim',\n",
       " 'muito',\n",
       " 'na',\n",
       " 'nada',\n",
       " 'nao',\n",
       " 'no',\n",
       " 'não',\n",
       " 'o',\n",
       " 'oq',\n",
       " 'os',\n",
       " 'ou',\n",
       " 'pai',\n",
       " 'para',\n",
       " 'plus',\n",
       " 'por',\n",
       " 'porra',\n",
       " 'pq',\n",
       " 'pra',\n",
       " 'preço',\n",
       " 'pro',\n",
       " 'q',\n",
       " 'quando',\n",
       " 'que',\n",
       " 'quero',\n",
       " 'rt',\n",
       " 's20',\n",
       " 'se',\n",
       " 'ser',\n",
       " 'só',\n",
       " 'tem',\n",
       " 'tenho',\n",
       " 'ter',\n",
       " 'troco',\n",
       " 'tudo',\n",
       " 'tá',\n",
       " 'tô',\n",
       " 'um',\n",
       " 'uma',\n",
       " 'vai',\n",
       " 'vc',\n",
       " 'xr',\n",
       " 'xs',\n",
       " 'é'}"
      ]
     },
     "execution_count": 92,
     "metadata": {},
     "output_type": "execute_result"
    }
   ],
   "source": [
    "set_positivo = set(tabela_positivo_relativa.index)\n",
    "set_negativo = set(tabela_negativo_relativa.index)\n",
    "set_neutro = set(tabela_neutro_relativa.index)\n",
    "\n",
    "inter = set_positivo.intersection(set_negativo, set_neutro)\n",
    "\n",
    "inter"
   ]
  },
  {
   "cell_type": "markdown",
   "metadata": {},
   "source": [
    "##### Frase a se classificar"
   ]
  },
  {
   "cell_type": "code",
   "execution_count": 95,
   "metadata": {},
   "outputs": [
    {
     "data": {
      "text/html": [
       "<div>\n",
       "<style scoped>\n",
       "    .dataframe tbody tr th:only-of-type {\n",
       "        vertical-align: middle;\n",
       "    }\n",
       "\n",
       "    .dataframe tbody tr th {\n",
       "        vertical-align: top;\n",
       "    }\n",
       "\n",
       "    .dataframe thead th {\n",
       "        text-align: right;\n",
       "    }\n",
       "</style>\n",
       "<table border=\"1\" class=\"dataframe\">\n",
       "  <thead>\n",
       "    <tr style=\"text-align: right;\">\n",
       "      <th></th>\n",
       "      <th>Teste</th>\n",
       "      <th>Unnamed: 1</th>\n",
       "    </tr>\n",
       "  </thead>\n",
       "  <tbody>\n",
       "    <tr>\n",
       "      <td>0</td>\n",
       "      <td>rt @esteziinh_: @biaaa_crf marco mesmo pq não ...</td>\n",
       "      <td>4</td>\n",
       "    </tr>\n",
       "    <tr>\n",
       "      <td>1</td>\n",
       "      <td>gabrieljnio6 @ericat_lol po man o meu é iphone...</td>\n",
       "      <td>3</td>\n",
       "    </tr>\n",
       "    <tr>\n",
       "      <td>2</td>\n",
       "      <td>iphone 11 é difícil pra crl p mexer kkka🤦🏾‍♂️</td>\n",
       "      <td>1</td>\n",
       "    </tr>\n",
       "    <tr>\n",
       "      <td>3</td>\n",
       "      <td>rt @xajuliaxouza: só preciso de um iphone 11 e...</td>\n",
       "      <td>4</td>\n",
       "    </tr>\n",
       "    <tr>\n",
       "      <td>4</td>\n",
       "      <td>eu na #quarentena marcando pessoas em sorteio ...</td>\n",
       "      <td>3</td>\n",
       "    </tr>\n",
       "  </tbody>\n",
       "</table>\n",
       "</div>"
      ],
      "text/plain": [
       "                                               Teste  Unnamed: 1\n",
       "0  rt @esteziinh_: @biaaa_crf marco mesmo pq não ...           4\n",
       "1  gabrieljnio6 @ericat_lol po man o meu é iphone...           3\n",
       "2      iphone 11 é difícil pra crl p mexer kkka🤦🏾‍♂️           1\n",
       "3  rt @xajuliaxouza: só preciso de um iphone 11 e...           4\n",
       "4  eu na #quarentena marcando pessoas em sorteio ...           3"
      ]
     },
     "execution_count": 95,
     "metadata": {},
     "output_type": "execute_result"
    }
   ],
   "source": [
    "base_teste = pd.ExcelFile('Iphone_11.xlsx')\n",
    "df1 = pd.read_excel(base_teste,'Teste')\n",
    "df1.head()"
   ]
  },
  {
   "cell_type": "code",
   "execution_count": 103,
   "metadata": {},
   "outputs": [],
   "source": [
    "for e in df1.Teste:\n",
    "    e = cleanup(e.lower())\n",
    "    "
   ]
  },
  {
   "cell_type": "code",
   "execution_count": 105,
   "metadata": {},
   "outputs": [
    {
     "data": {
      "text/plain": [
       "'@almeidac_11 @embaixadachina @zlj517 @spokespersonchn @mfa_china vc debochou do fato deles usaram iphone e eu falei q eles n são obrigados a usar telefone chinês já q eles nem tão na china uai'"
      ]
     },
     "execution_count": 105,
     "metadata": {},
     "output_type": "execute_result"
    }
   ],
   "source": [
    "e"
   ]
  },
  {
   "cell_type": "markdown",
   "metadata": {},
   "source": [
    "##### Transformar em lista"
   ]
  },
  {
   "cell_type": "code",
   "execution_count": 108,
   "metadata": {},
   "outputs": [
    {
     "name": "stdout",
     "output_type": "stream",
     "text": [
      "0         @almeidac_11\n",
      "1      @embaixadachina\n",
      "2              @zlj517\n",
      "3     @spokespersonchn\n",
      "4           @mfa_china\n",
      "5                   vc\n",
      "6             debochou\n",
      "7                   do\n",
      "8                 fato\n",
      "9                deles\n",
      "10              usaram\n",
      "11              iphone\n",
      "12                   e\n",
      "13                  eu\n",
      "14               falei\n",
      "15                   q\n",
      "16                eles\n",
      "17                   n\n",
      "18                 são\n",
      "19           obrigados\n",
      "20                   a\n",
      "21                usar\n",
      "22            telefone\n",
      "23              chinês\n",
      "24                  já\n",
      "25                   q\n",
      "26                eles\n",
      "27                 nem\n",
      "28                 tão\n",
      "29                  na\n",
      "30               china\n",
      "31                 uai\n",
      "dtype: object\n"
     ]
    }
   ],
   "source": [
    "tabela_tweets = pd.Series(e.split())\n",
    "print(tabela_tweets)\n",
    "tabela_tweets_s=tabela_tweets.value_counts(True)"
   ]
  },
  {
   "cell_type": "code",
   "execution_count": 110,
   "metadata": {},
   "outputs": [
    {
     "data": {
      "text/plain": [
       "'rt : eu quero pega o iphone 11 cansei desse já'"
      ]
     },
     "execution_count": 110,
     "metadata": {},
     "output_type": "execute_result"
    }
   ],
   "source": [
    "import re\n",
    "\n",
    "for e in dados.Treinamento :\n",
    "    x = re.sub(\"@[A-Za-z0-9]+\",\"\",e)\n",
    "x"
   ]
  },
  {
   "cell_type": "markdown",
   "metadata": {},
   "source": [
    "___\n",
    "### Verificando a performance do Classificador\n",
    "\n",
    "Agora você deve testar o seu classificador com a base de Testes."
   ]
  },
  {
   "cell_type": "code",
   "execution_count": null,
   "metadata": {},
   "outputs": [],
   "source": []
  },
  {
   "cell_type": "code",
   "execution_count": null,
   "metadata": {},
   "outputs": [],
   "source": []
  },
  {
   "cell_type": "code",
   "execution_count": null,
   "metadata": {},
   "outputs": [],
   "source": []
  },
  {
   "cell_type": "markdown",
   "metadata": {},
   "source": [
    "___\n",
    "### Concluindo"
   ]
  },
  {
   "cell_type": "code",
   "execution_count": null,
   "metadata": {},
   "outputs": [],
   "source": []
  },
  {
   "cell_type": "code",
   "execution_count": null,
   "metadata": {},
   "outputs": [],
   "source": []
  },
  {
   "cell_type": "markdown",
   "metadata": {},
   "source": [
    "___\n",
    "## Aperfeiçoamento:\n",
    "\n",
    "Os trabalhos vão evoluir em conceito dependendo da quantidade de itens avançados:\n",
    "\n",
    "* Limpar: \\n, :, \", ', (, ), etc SEM remover emojis\n",
    "* Corrigir separação de espaços entre palavras e emojis ou entre emojis e emojis\n",
    "* Propor outras limpezas e transformações que não afetem a qualidade da informação ou classificação\n",
    "* Criar categorias intermediárias de relevância baseadas na probabilidade: ex.: muito relevante, relevante, neutro, irrelevante, muito irrelevante (3 categorias: C, mais categorias conta para B)\n",
    "* Explicar por que não posso usar o próprio classificador para gerar mais amostras de treinamento\n",
    "* Propor diferentes cenários para Naïve Bayes fora do contexto do projeto\n",
    "* Sugerir e explicar melhorias reais com indicações concretas de como implementar (indicar como fazer e indicar material de pesquisa)\n",
    "* Montar um dashboard que periodicamente realiza análise de sentimento e visualiza estes dados"
   ]
  },
  {
   "cell_type": "markdown",
   "metadata": {},
   "source": [
    "___\n",
    "## Referências"
   ]
  },
  {
   "cell_type": "markdown",
   "metadata": {},
   "source": [
    "[Naive Bayes and Text Classification](https://arxiv.org/pdf/1410.5329.pdf)  **Mais completo**\n",
    "\n",
    "[A practical explanation of a Naive Bayes Classifier](https://monkeylearn.com/blog/practical-explanation-naive-bayes-classifier/) **Mais simples**"
   ]
  },
  {
   "cell_type": "code",
   "execution_count": null,
   "metadata": {},
   "outputs": [],
   "source": []
  }
 ],
 "metadata": {
  "kernelspec": {
   "display_name": "Python 3",
   "language": "python",
   "name": "python3"
  },
  "language_info": {
   "codemirror_mode": {
    "name": "ipython",
    "version": 3
   },
   "file_extension": ".py",
   "mimetype": "text/x-python",
   "name": "python",
   "nbconvert_exporter": "python",
   "pygments_lexer": "ipython3",
   "version": "3.7.4"
  }
 },
 "nbformat": 4,
 "nbformat_minor": 4
}
