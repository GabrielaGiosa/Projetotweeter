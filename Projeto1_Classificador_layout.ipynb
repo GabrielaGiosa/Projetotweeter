{
 "cells": [
  {
   "cell_type": "markdown",
   "metadata": {},
   "source": [
    "# Projeto 1 - Ciência dos Dados"
   ]
  },
  {
   "cell_type": "markdown",
   "metadata": {},
   "source": [
    "Nome: Maria Eduarda Torres\n",
    "\n",
    "Nome: Gabriela Choichit Giosa"
   ]
  },
  {
   "cell_type": "markdown",
   "metadata": {},
   "source": [
    "Atenção: Serão permitidos grupos de três pessoas, mas com uma rubrica mais exigente. Grupos deste tamanho precisarão fazer um questionário de avaliação de trabalho em equipe"
   ]
  },
  {
   "cell_type": "markdown",
   "metadata": {},
   "source": [
    "___\n",
    "Carregando algumas bibliotecas:"
   ]
  },
  {
   "cell_type": "code",
   "execution_count": 1,
   "metadata": {},
   "outputs": [],
   "source": [
    "%matplotlib inline\n",
    "import pandas as pd\n",
    "import matplotlib.pyplot as plt\n",
    "import numpy as np\n",
    "import os"
   ]
  },
  {
   "cell_type": "code",
   "execution_count": 2,
   "metadata": {
    "scrolled": false
   },
   "outputs": [
    {
     "name": "stdout",
     "output_type": "stream",
     "text": [
      "Esperamos trabalhar no diretório\n",
      "C:\\Users\\Gabriela\\Documents\\INSPER\\2Semestre.2\\CDados\\Projetotweeter\n"
     ]
    }
   ],
   "source": [
    "print('Esperamos trabalhar no diretório')\n",
    "print(os.getcwd())"
   ]
  },
  {
   "cell_type": "markdown",
   "metadata": {},
   "source": [
    "Carregando a base de dados com os tweets classificados como relevantes e não relevantes:"
   ]
  },
  {
   "cell_type": "code",
   "execution_count": 3,
   "metadata": {},
   "outputs": [
    {
     "data": {
      "text/html": [
       "<div>\n",
       "<style scoped>\n",
       "    .dataframe tbody tr th:only-of-type {\n",
       "        vertical-align: middle;\n",
       "    }\n",
       "\n",
       "    .dataframe tbody tr th {\n",
       "        vertical-align: top;\n",
       "    }\n",
       "\n",
       "    .dataframe thead th {\n",
       "        text-align: right;\n",
       "    }\n",
       "</style>\n",
       "<table border=\"1\" class=\"dataframe\">\n",
       "  <thead>\n",
       "    <tr style=\"text-align: right;\">\n",
       "      <th></th>\n",
       "      <th>Treinamento</th>\n",
       "      <th>categorias</th>\n",
       "    </tr>\n",
       "  </thead>\n",
       "  <tbody>\n",
       "    <tr>\n",
       "      <td>0</td>\n",
       "      <td>rt @maionese53: papai acaba de ajeitar meu cel...</td>\n",
       "      <td>4</td>\n",
       "    </tr>\n",
       "    <tr>\n",
       "      <td>1</td>\n",
       "      <td>@kt_lilstar @tiktokproibido no fim qm vai ter ...</td>\n",
       "      <td>3</td>\n",
       "    </tr>\n",
       "    <tr>\n",
       "      <td>2</td>\n",
       "      <td>estou aceitando um iphone 11 pro max ou um s20...</td>\n",
       "      <td>3</td>\n",
       "    </tr>\n",
       "    <tr>\n",
       "      <td>3</td>\n",
       "      <td>ai n to fazendo nada acho q vou comprar um iph...</td>\n",
       "      <td>3</td>\n",
       "    </tr>\n",
       "    <tr>\n",
       "      <td>4</td>\n",
       "      <td>@_gabialmeida07 ganhando iphone 11 eu lambia a...</td>\n",
       "      <td>4</td>\n",
       "    </tr>\n",
       "  </tbody>\n",
       "</table>\n",
       "</div>"
      ],
      "text/plain": [
       "                                         Treinamento  categorias\n",
       "0  rt @maionese53: papai acaba de ajeitar meu cel...           4\n",
       "1  @kt_lilstar @tiktokproibido no fim qm vai ter ...           3\n",
       "2  estou aceitando um iphone 11 pro max ou um s20...           3\n",
       "3  ai n to fazendo nada acho q vou comprar um iph...           3\n",
       "4  @_gabialmeida07 ganhando iphone 11 eu lambia a...           4"
      ]
     },
     "execution_count": 3,
     "metadata": {},
     "output_type": "execute_result"
    }
   ],
   "source": [
    "dados = pd.read_excel('Iphone_11.xlsx')\n",
    "dados.head()"
   ]
  },
  {
   "cell_type": "markdown",
   "metadata": {},
   "source": [
    "___\n",
    "## Classificador automático de sentimento\n"
   ]
  },
  {
   "cell_type": "markdown",
   "metadata": {},
   "source": [
    "Faça aqui uma descrição do seu produto e o que considerou como relevante ou não relevante na classificação dos tweets.\n",
    "\n",
    "ESCREVA AQUI..."
   ]
  },
  {
   "cell_type": "markdown",
   "metadata": {},
   "source": [
    "___\n",
    "### Montando um Classificador Naive-Bayes\n",
    "\n",
    "Considerando apenas as mensagens da planilha Treinamento, ensine  seu classificador."
   ]
  },
  {
   "cell_type": "markdown",
   "metadata": {},
   "source": [
    "#### Separando os dados"
   ]
  },
  {
   "cell_type": "code",
   "execution_count": 4,
   "metadata": {},
   "outputs": [],
   "source": [
    "GM = dados['categorias'] == 5\n",
    "G = dados['categorias'] == 4\n",
    "N = dados['categorias'] == 3\n",
    "NG = dados['categorias'] == 2\n",
    "D = dados['categorias'] == 1"
   ]
  },
  {
   "cell_type": "code",
   "execution_count": 5,
   "metadata": {},
   "outputs": [],
   "source": [
    "Gosta_muito = dados.loc[GM,:]\n",
    "Gosta = dados.loc[G,:]\n",
    "Neutro = dados.loc[N,:]\n",
    "Nao_gosta = dados.loc[NG,:]\n",
    "Detesta = dados.loc[D,:]"
   ]
  },
  {
   "cell_type": "code",
   "execution_count": 6,
   "metadata": {},
   "outputs": [
    {
     "data": {
      "text/plain": [
       "3    156\n",
       "5     94\n",
       "4     24\n",
       "2     16\n",
       "1     10\n",
       "Name: categorias, dtype: int64"
      ]
     },
     "execution_count": 6,
     "metadata": {},
     "output_type": "execute_result"
    }
   ],
   "source": [
    "universo = dados['categorias']\n",
    "universo.value_counts()"
   ]
  },
  {
   "cell_type": "markdown",
   "metadata": {},
   "source": [
    "##### Subcategorias:\n"
   ]
  },
  {
   "cell_type": "code",
   "execution_count": 7,
   "metadata": {},
   "outputs": [],
   "source": [
    "#Tweets positivos\n",
    "Ok = (dados['categorias'] == 5) | (dados['categorias'] == 4)\n",
    "positivo = dados.loc[Ok,:]"
   ]
  },
  {
   "cell_type": "code",
   "execution_count": 8,
   "metadata": {},
   "outputs": [],
   "source": [
    "#Tweets negativos\n",
    "N_ok = (dados['categorias'] == 1) | (dados['categorias'] == 2)\n",
    "negativo = dados.loc[N_ok,:]"
   ]
  },
  {
   "cell_type": "code",
   "execution_count": 9,
   "metadata": {},
   "outputs": [],
   "source": [
    "#Tweets neutros\n",
    "n = (dados['categorias'] == 3)\n",
    "neutro = dados.loc[n,:]"
   ]
  },
  {
   "cell_type": "markdown",
   "metadata": {},
   "source": [
    "##### Total de ocorrências"
   ]
  },
  {
   "cell_type": "code",
   "execution_count": 10,
   "metadata": {},
   "outputs": [
    {
     "data": {
      "text/plain": [
       "(118, 300, 26, 156)"
      ]
     },
     "execution_count": 10,
     "metadata": {},
     "output_type": "execute_result"
    }
   ],
   "source": [
    "total = len(dados.index)\n",
    "total_neg = len(negativo.index)\n",
    "total_pos = len(positivo.index)\n",
    "total_neutro = len(neutro.index)\n",
    "total_pos, total, total_neg, total_neutro"
   ]
  },
  {
   "cell_type": "markdown",
   "metadata": {},
   "source": [
    "##### Probabilidade de ser positivo"
   ]
  },
  {
   "cell_type": "code",
   "execution_count": 11,
   "metadata": {},
   "outputs": [
    {
     "data": {
      "text/plain": [
       "0.3933333333333333"
      ]
     },
     "execution_count": 11,
     "metadata": {},
     "output_type": "execute_result"
    }
   ],
   "source": [
    "prob_pos = total_pos / total\n",
    "prob_pos"
   ]
  },
  {
   "cell_type": "markdown",
   "metadata": {},
   "source": [
    "##### Probabilidade de ser negativo"
   ]
  },
  {
   "cell_type": "code",
   "execution_count": 12,
   "metadata": {},
   "outputs": [
    {
     "data": {
      "text/plain": [
       "0.08666666666666667"
      ]
     },
     "execution_count": 12,
     "metadata": {},
     "output_type": "execute_result"
    }
   ],
   "source": [
    "prob_neg = total_neg / total\n",
    "prob_neg"
   ]
  },
  {
   "cell_type": "markdown",
   "metadata": {},
   "source": [
    "##### Probabilidade de ser neutro"
   ]
  },
  {
   "cell_type": "code",
   "execution_count": 13,
   "metadata": {},
   "outputs": [
    {
     "data": {
      "text/plain": [
       "0.52"
      ]
     },
     "execution_count": 13,
     "metadata": {},
     "output_type": "execute_result"
    }
   ],
   "source": [
    "prob_neutro = total_neutro / total\n",
    "prob_neutro"
   ]
  },
  {
   "cell_type": "markdown",
   "metadata": {},
   "source": [
    "##### Transformando em texto "
   ]
  },
  {
   "cell_type": "code",
   "execution_count": 14,
   "metadata": {},
   "outputs": [],
   "source": [
    "texto=\"\""
   ]
  },
  {
   "cell_type": "code",
   "execution_count": 15,
   "metadata": {},
   "outputs": [],
   "source": [
    "for e in dados.Treinamento:\n",
    "    texto+= \" \" + e \n"
   ]
  },
  {
   "cell_type": "markdown",
   "metadata": {},
   "source": [
    "##### Filtrando texto positivo"
   ]
  },
  {
   "cell_type": "code",
   "execution_count": 16,
   "metadata": {},
   "outputs": [],
   "source": [
    "texto_positivo =\"\""
   ]
  },
  {
   "cell_type": "code",
   "execution_count": 17,
   "metadata": {},
   "outputs": [],
   "source": [
    "for e in positivo.Treinamento:\n",
    "    texto_positivo+= \" \" + e \n"
   ]
  },
  {
   "cell_type": "markdown",
   "metadata": {},
   "source": [
    "##### Filtrando texto negativo "
   ]
  },
  {
   "cell_type": "code",
   "execution_count": 18,
   "metadata": {},
   "outputs": [],
   "source": [
    "texto_negativo =\"\""
   ]
  },
  {
   "cell_type": "code",
   "execution_count": 19,
   "metadata": {},
   "outputs": [],
   "source": [
    "for e in negativo.Treinamento:\n",
    "    texto_negativo+= \" \" + e \n",
    "    "
   ]
  },
  {
   "cell_type": "markdown",
   "metadata": {},
   "source": [
    "##### Filtrando texto neutro"
   ]
  },
  {
   "cell_type": "code",
   "execution_count": 20,
   "metadata": {},
   "outputs": [],
   "source": [
    "texto_neutro =\"\""
   ]
  },
  {
   "cell_type": "code",
   "execution_count": 21,
   "metadata": {},
   "outputs": [],
   "source": [
    "for e in neutro.Treinamento:\n",
    "    texto_neutro+= \"\" + e \n",
    "    "
   ]
  },
  {
   "cell_type": "markdown",
   "metadata": {},
   "source": [
    "##### Limpando textos\n"
   ]
  },
  {
   "cell_type": "code",
   "execution_count": 22,
   "metadata": {},
   "outputs": [],
   "source": [
    "import re \n",
    "\n",
    "\n",
    "def cleanup(text):\n",
    "    \"\"\"\n",
    "        Função de limpeza muito simples que troca alguns sinais básicos por espaços\n",
    "    \"\"\"\n",
    "    import string\n",
    "    punctuation = '[!-.:?;]' # Note que os sinais [] são delimitadores de um conjunto.\n",
    "    pattern = re.compile(punctuation)\n",
    "    text_subbed = re.sub(pattern, ' ', text)\n",
    "    return text_subbed\n",
    "    "
   ]
  },
  {
   "cell_type": "markdown",
   "metadata": {},
   "source": [
    "##### Split and cleanup"
   ]
  },
  {
   "cell_type": "code",
   "execution_count": 23,
   "metadata": {},
   "outputs": [
    {
     "data": {
      "text/plain": [
       "'rt   eu quero pega o iphone 11 cansei desse já'"
      ]
     },
     "execution_count": 23,
     "metadata": {},
     "output_type": "execute_result"
    }
   ],
   "source": [
    "import re\n",
    "\n",
    "texto = cleanup(texto.lower())\n",
    "texto_split = pd.Series(texto.split())\n",
    "\n",
    "texto_positivo = cleanup(texto_positivo.lower())\n",
    "texto_positivo_split = pd.Series(texto_positivo.split())\n",
    "\n",
    "texto_negativo = cleanup(texto_negativo.lower())\n",
    "texto_negativo_split = pd.Series(texto_negativo.split())\n",
    "\n",
    "texto_neutro= cleanup(texto_neutro.lower())\n",
    "texto_neutro_split = pd.Series(texto_neutro.split())\n",
    "\n",
    "for e in dados.Treinamento:\n",
    "    e = cleanup(e.lower())\n",
    "    x = re.sub(\"@[A-Za-z0-9]+\",\"\",e)\n",
    "x"
   ]
  },
  {
   "cell_type": "markdown",
   "metadata": {},
   "source": [
    "##### Frequencia absoluta"
   ]
  },
  {
   "cell_type": "code",
   "execution_count": 24,
   "metadata": {},
   "outputs": [
    {
     "name": "stdout",
     "output_type": "stream",
     "text": [
      "5430 1703 551 3038\n",
      "0.3136279926335175 0.10147329650092081 0.5594843462246777\n"
     ]
    }
   ],
   "source": [
    "tabela_texto = texto_split.value_counts()\n",
    "\n",
    "tabela_texto_positivo = texto_positivo_split.value_counts()\n",
    "\n",
    "tabela_texto_negativo = texto_negativo_split .value_counts()\n",
    "\n",
    "tabela_texto_neutro = texto_neutro_split.value_counts()\n",
    "\n",
    "soma_palavras=tabela_texto.sum()\n",
    "soma_positivo=tabela_texto_positivo.sum()\n",
    "soma_negativo=tabela_texto_negativo.sum()\n",
    "soma_neutro=tabela_texto_neutro.sum()\n",
    "\n",
    "print(soma_palavras,soma_positivo,soma_negativo,soma_neutro)\n",
    "\n",
    "\n",
    "probabilidade_pos=soma_positivo/ soma_palavras\n",
    "probabilidade_neg=soma_negativo/ soma_palavras\n",
    "probabilidade_neu=soma_neutro/ soma_palavras\n",
    "\n",
    "print(probabilidade_pos,probabilidade_neg,probabilidade_neu)"
   ]
  },
  {
   "cell_type": "markdown",
   "metadata": {},
   "source": [
    "##### Frequencias relativas"
   ]
  },
  {
   "cell_type": "code",
   "execution_count": 25,
   "metadata": {},
   "outputs": [],
   "source": [
    "tabela_texto_relativa = texto_split.value_counts(True)"
   ]
  },
  {
   "cell_type": "code",
   "execution_count": 26,
   "metadata": {},
   "outputs": [
    {
     "data": {
      "text/plain": [
       "iphone           0.073987\n",
       "11               0.070464\n",
       "um               0.042866\n",
       "o                0.022314\n",
       "pro              0.022314\n",
       "                   ...   \n",
       "felicidade       0.000587\n",
       "tão              0.000587\n",
       "loco             0.000587\n",
       "@susuizabella    0.000587\n",
       "falasse          0.000587\n",
       "Length: 575, dtype: float64"
      ]
     },
     "execution_count": 26,
     "metadata": {},
     "output_type": "execute_result"
    }
   ],
   "source": [
    "tabela_positivo_relativa = texto_positivo_split.value_counts(True)\n",
    "tabela_positivo_relativa"
   ]
  },
  {
   "cell_type": "code",
   "execution_count": 27,
   "metadata": {},
   "outputs": [],
   "source": [
    "tabela_negativo_relativa = texto_negativo_split.value_counts(True)"
   ]
  },
  {
   "cell_type": "code",
   "execution_count": 28,
   "metadata": {},
   "outputs": [],
   "source": [
    "tabela_neutro_relativa = texto_neutro_split.value_counts(True)"
   ]
  },
  {
   "cell_type": "markdown",
   "metadata": {},
   "source": [
    "##### Probalidade"
   ]
  },
  {
   "cell_type": "code",
   "execution_count": 29,
   "metadata": {},
   "outputs": [
    {
     "data": {
      "text/plain": [
       "(0.0005871990604815032, 0.0054446460980036296, 0)"
      ]
     },
     "execution_count": 29,
     "metadata": {},
     "output_type": "execute_result"
    }
   ],
   "source": [
    "a=tabela_positivo_relativa.get('caro', 0)\n",
    "b=tabela_negativo_relativa.get('caro', 0)\n",
    "c=tabela_neutro_relativa.get('caro', 0)\n",
    "a,b,c"
   ]
  },
  {
   "cell_type": "markdown",
   "metadata": {},
   "source": [
    "##### Interseção entre os conjuntos"
   ]
  },
  {
   "cell_type": "code",
   "execution_count": 30,
   "metadata": {},
   "outputs": [],
   "source": [
    "set_positivo = set(tabela_positivo_relativa.index)\n",
    "set_negativo = set(tabela_negativo_relativa.index)\n",
    "set_neutro = set(tabela_neutro_relativa.index)\n",
    "\n",
    "inter = set_positivo.intersection(set_negativo, set_neutro)"
   ]
  },
  {
   "cell_type": "markdown",
   "metadata": {},
   "source": [
    "##### Frase a se classificar"
   ]
  },
  {
   "cell_type": "code",
   "execution_count": 31,
   "metadata": {},
   "outputs": [
    {
     "data": {
      "text/plain": [
       "Teste         rt @_matheusmaki: queria um iphone 11 e um app...\n",
       "categorias                                                    5\n",
       "Name: 99, dtype: object"
      ]
     },
     "execution_count": 31,
     "metadata": {},
     "output_type": "execute_result"
    }
   ],
   "source": [
    "base_teste = pd.ExcelFile('Iphone_11.xlsx')\n",
    "df1 = pd.read_excel(base_teste,'Teste')\n",
    "df1.iloc[99]\n"
   ]
  },
  {
   "cell_type": "markdown",
   "metadata": {},
   "source": [
    "##### Limpando tweets e classificando"
   ]
  },
  {
   "cell_type": "code",
   "execution_count": 32,
   "metadata": {},
   "outputs": [
    {
     "name": "stdout",
     "output_type": "stream",
     "text": [
      "1.5968404095906092e-40 6.609141688234601e-22 5.382731429352668e-44\n",
      "                                                 Teste  categorias  \\\n",
      "0    rt @esteziinh_: @biaaa_crf marco mesmo pq não ...           5   \n",
      "1    gabrieljnio6 @ericat_lol po man o meu é iphone...           3   \n",
      "2        iphone 11 é difícil pra crl p mexer kkka🤦🏾‍♂️           1   \n",
      "3    rt @xajuliaxouza: só preciso de um iphone 11 e...           5   \n",
      "4    eu na #quarentena marcando pessoas em sorteio ...           3   \n",
      "..                                                 ...         ...   \n",
      "100  me da um iphone 11 na mao pra ve se eu nao vir...           5   \n",
      "101  rt @arthurbclsz: alguém me dá um iphone xr? po...           5   \n",
      "102  rt @euleozin_: troco por iphone 11 pro, chamar...           3   \n",
      "103            o auto falante do iphone 11 pro é otimo           5   \n",
      "104  @almeidac_11 @embaixadachina @zlj517 @spokespe...           3   \n",
      "\n",
      "     classificador  \n",
      "0              1.0  \n",
      "1              3.0  \n",
      "2              1.0  \n",
      "3              3.0  \n",
      "4              1.0  \n",
      "..             ...  \n",
      "100            3.0  \n",
      "101            1.0  \n",
      "102            5.0  \n",
      "103            5.0  \n",
      "104            1.0  \n",
      "\n",
      "[105 rows x 3 columns]\n"
     ]
    }
   ],
   "source": [
    "\n",
    "\n",
    "i=0\n",
    "for e in df1.Teste: \n",
    "    e = cleanup(e.lower())\n",
    "    x = re.sub(\"@[A-Za-z0-9]+\",\"\",e)\n",
    "    tabela_tweets = pd.Series(x.split())\n",
    "    \n",
    "    positive=1\n",
    "    for palavra in tabela_tweets:\n",
    "        positive*=tabela_positivo_relativa.get(palavra, 1)\n",
    "\n",
    "    negative=1    \n",
    "    for palavra in tabela_tweets:\n",
    "        negative*=tabela_negativo_relativa.get(palavra, 1)\n",
    "    \n",
    "    cinza=1\n",
    "    for palavra in tabela_tweets:\n",
    "        cinza*=tabela_neutro_relativa.get(palavra, 1)\n",
    "  \n",
    "    \n",
    "    positive=probabilidade_pos*positive\n",
    "    negative=probabilidade_neg*negative\n",
    "    cinza=probabilidade_neu*cinza\n",
    "    \n",
    "    if positive>negative and positive>cinza:\n",
    "        classificador=5\n",
    "    elif negative>positive and negative>cinza:\n",
    "        classificador=1\n",
    "    elif cinza>positive and cinza>negative:\n",
    "        classificador=3\n",
    "        \n",
    "    #df1.insert(1, \"classificador\", classificador, True)\n",
    "    df1.loc[i, \"classificador\"]=classificador\n",
    "    i+=1\n",
    "    \n",
    "print(positive, negative,cinza)\n",
    "\n",
    "print (df1)\n",
    "    "
   ]
  },
  {
   "cell_type": "code",
   "execution_count": 33,
   "metadata": {},
   "outputs": [
    {
     "data": {
      "text/plain": [
       "13"
      ]
     },
     "execution_count": 33,
     "metadata": {},
     "output_type": "execute_result"
    }
   ],
   "source": [
    "con = 0\n",
    "total = 0\n",
    "while con < 105:\n",
    "    if df1.categorias[con] == df1.classificador[con]:\n",
    "        total += 1\n",
    "        \n",
    "    con+=1 \n",
    "total"
   ]
  },
  {
   "cell_type": "code",
   "execution_count": 34,
   "metadata": {},
   "outputs": [
    {
     "data": {
      "text/plain": [
       "0.12380952380952381"
      ]
     },
     "execution_count": 34,
     "metadata": {},
     "output_type": "execute_result"
    }
   ],
   "source": [
    "porcentagem_acerto = total/len(df1)\n",
    "porcentagem_acerto"
   ]
  },
  {
   "cell_type": "markdown",
   "metadata": {},
   "source": [
    "___\n",
    "### Verificando a performance do Classificador\n",
    "\n",
    "Agora você deve testar o seu classificador com a base de Testes."
   ]
  },
  {
   "cell_type": "code",
   "execution_count": null,
   "metadata": {},
   "outputs": [],
   "source": []
  },
  {
   "cell_type": "code",
   "execution_count": null,
   "metadata": {},
   "outputs": [],
   "source": []
  },
  {
   "cell_type": "code",
   "execution_count": null,
   "metadata": {},
   "outputs": [],
   "source": []
  },
  {
   "cell_type": "markdown",
   "metadata": {},
   "source": [
    "___\n",
    "### Concluindo"
   ]
  },
  {
   "cell_type": "markdown",
   "metadata": {},
   "source": [
    "Neste trabalho buscamos fazer uma análise de sentimento referente as opiniões do público geral sobre o iphone 11. Para obter essas informações coletamos tweets que mencionassem o produto, para obtermos um resultado mais especifico, resolvemos nos basear em uma pergunta: Quais recursos poderíamos melhorar para o lançamento do próximo iphone?\n",
    "\n",
    "   Desta forma, seguindo a pergunta, foi possível separar essa base de dados em cinco categorias: Gosto muito, Gosto, Neutro, Não gosto e Detesto. Porém avaliamos e visando melhorar a qualidade do nosso classificador, agrupamos o \"Gosto muito\" com o \"Gosto\", em uma classe chamada \"Positivos\", e \"Não gosto\" e \"Detesto\" em outra chamada \"Negativos\".\n",
    "\n",
    "   Assim, os tweets Positivos, englobam aqueles que tem um feedback agregando os pontos bons do produto; Negativos, tweets que criticassem a qualidade do produto, desencorajando então pessoas a comprá-lo, e por fim, Neutros, que seriam aqueles que não respondessem a nossa pergunta, esse processo foi feito tanto na base de treinamento como na de teste.\n",
    "   \n",
    "   Começamos a divisão baseando-se na base de treinamento, onde já tinhamos as divisões e poderiamos montar os cálculos a partir delas, por conta disso, não poderiamos usar o classificador para gerar amostras na base de treinamento, uma vez que isso afetaria nossos resultados pois é de lá que retiramos os valores para treinar o programa.\n",
    "   \n",
    "   Com os tweets já classificados fizemos ajustes que melhorariam a perfomance de nosso classificador, começamos tranformando as células do dataframe em um texto corrido, para depois remover a pontuação e separar as palavras para podermos calcular a probabilidade de aparição de cada uma delas para futuramente às aplicar na fórmula naive bayes. Em seguida deixamos o texto todo em letra minuscula e julgamos interessante remover também os \"@\" e o nome de usuários.\n",
    "   \n",
    "   Com esses dados, o programa foi capaz de classificar sozinho nossa base de teste, levando em conta a probabilidade de cada palavra do tweet pertencer a determinada categoria para assim definir em qual delas esse tweet se encaixa. Nosso classificador teve uma acurácia de 12,38%, ou seja, a classe que nós colocamos os tweets foram iguais a categoria que o programa colocou em 12,38% dos casos.\n",
    "   \n",
    "   O Naive Bayes pode ser usado em diversas ocasiões, não só na classificação de tweets, mas como também para avaliar a probabilidade de eventos. Um exemplo de aplicação pode ser prever se um ex presidiário cometerá um crime novamente dependendo da cadeia em que foi preso. Outra possibilidade seria calcular a probabilidade de vitória de um jogador no jogo da velha, baseando-se na posição em que ele colocou a primeira peça.  "
   ]
  },
  {
   "cell_type": "markdown",
   "metadata": {},
   "source": [
    "___\n",
    "## Aperfeiçoamento:\n",
    "\n",
    "Os trabalhos vão evoluir em conceito dependendo da quantidade de itens avançados:\n",
    "\n",
    "* Limpar: \\n, :, \", ', (, ), etc SEM remover emojis\n",
    "* Corrigir separação de espaços entre palavras e emojis ou entre emojis e emojis\n",
    "* Propor outras limpezas e transformações que não afetem a qualidade da informação ou classificação\n",
    "* Criar categorias intermediárias de relevância baseadas na probabilidade: ex.: muito relevante, relevante, neutro, irrelevante, muito irrelevante (3 categorias: C, mais categorias conta para B)\n",
    "* Explicar por que não posso usar o próprio classificador para gerar mais amostras de treinamento\n",
    "* Propor diferentes cenários para Naïve Bayes fora do contexto do projeto\n",
    "* Sugerir e explicar melhorias reais com indicações concretas de como implementar (indicar como fazer e indicar material de pesquisa)\n",
    "* Montar um dashboard que periodicamente realiza análise de sentimento e visualiza estes dados"
   ]
  },
  {
   "cell_type": "markdown",
   "metadata": {},
   "source": [
    "___\n",
    "## Referências"
   ]
  },
  {
   "cell_type": "markdown",
   "metadata": {},
   "source": [
    "[Naive Bayes and Text Classification](https://arxiv.org/pdf/1410.5329.pdf)  **Mais completo**\n",
    "\n",
    "[A practical explanation of a Naive Bayes Classifier](https://monkeylearn.com/blog/practical-explanation-naive-bayes-classifier/) **Mais simples**"
   ]
  },
  {
   "cell_type": "code",
   "execution_count": null,
   "metadata": {},
   "outputs": [],
   "source": []
  }
 ],
 "metadata": {
  "kernelspec": {
   "display_name": "Python 3",
   "language": "python",
   "name": "python3"
  },
  "language_info": {
   "codemirror_mode": {
    "name": "ipython",
    "version": 3
   },
   "file_extension": ".py",
   "mimetype": "text/x-python",
   "name": "python",
   "nbconvert_exporter": "python",
   "pygments_lexer": "ipython3",
   "version": "3.7.4"
  }
 },
 "nbformat": 4,
 "nbformat_minor": 4
}
